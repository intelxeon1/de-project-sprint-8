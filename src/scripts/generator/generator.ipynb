{
 "cells": [
  {
   "cell_type": "code",
   "execution_count": 2,
   "metadata": {},
   "outputs": [],
   "source": [
    "import json\n",
    "import time\n",
    "import random\n",
    "import uuid\n",
    "import string\n",
    "import psycopg2\n",
    "from faker import Faker\n",
    "import os\n",
    "import subprocess\n",
    "import datetime"
   ]
  },
  {
   "cell_type": "code",
   "execution_count": 3,
   "metadata": {},
   "outputs": [],
   "source": [
    "import sys\n",
    "sys.path.append(os.getcwd())\n",
    "from config import CONFIG\n",
    "from consts import CONSTS"
   ]
  },
  {
   "cell_type": "code",
   "execution_count": 4,
   "metadata": {},
   "outputs": [],
   "source": [
    "def read_distinct_restaurant_ids(host, port,database, user, password, table):\n",
    "    # Establish a connection to the PostgreSQL database\n",
    "    conn = psycopg2.connect(\n",
    "        host=host,\n",
    "        port = port,\n",
    "        database=database,\n",
    "        user=user,\n",
    "        password=password\n",
    "    )\n",
    "    \n",
    "    try:\n",
    "        # Create a cursor object to interact with the database\n",
    "        cur = conn.cursor()\n",
    "\n",
    "        # Execute the SQL query to retrieve distinct restaurant_id values\n",
    "        cur.execute(f\"SELECT DISTINCT restaurant_id FROM {table}\")\n",
    "\n",
    "        # Fetch all the distinct restaurant_id values\n",
    "        distinct_restaurant_ids = cur.fetchall()\n",
    "\n",
    "        # Commit the transaction\n",
    "        conn.commit()\n",
    "\n",
    "        # Return the distinct restaurant_ids as a list\n",
    "        return [record[0] for record in distinct_restaurant_ids]\n",
    "\n",
    "    except (Exception, psycopg2.DatabaseError) as error:\n",
    "        print(\"Error retrieving distinct restaurant_ids:\", error)\n",
    "\n",
    "    finally:\n",
    "        # Close the cursor and connection\n",
    "        cur.close()\n",
    "        conn.close()\n",
    "\n",
    "def generate_random_timestamp(after=None):\n",
    "    if after:\n",
    "        # Generate a random timestamp after the provided timestamp\n",
    "        return random.randint(after, after + 100000)\n",
    "      \n",
    "    # Generate a random timestamp after 30.07.2023\n",
    "    return random.randint(1677736800, 2688036800)\n",
    "\n",
    "def save_counter(counter,file_path):\n",
    "    # Save the counter to a file\n",
    "    with open(file_path, \"w\") as file:\n",
    "        file.write(str(counter))\n",
    "        \n",
    "def read_counter(file_path):\n",
    "    try:\n",
    "        with open(file_path, \"r\") as file:\n",
    "            counter = int(file.read())\n",
    "            return counter\n",
    "    except FileNotFoundError:        \n",
    "        return 1\n",
    "    except ValueError:\n",
    "        print(\"Invalid counter value in the file.\")\n",
    "        return -1\n",
    "    \n",
    "# Incremental counter for message ID\n",
    "def generate_message(restaurant_ids):\n",
    "    counter = read_counter(f\"{CONFIG['GEN_PATH']}/{CONFIG['COUNTER_FILE_NAME']}\")    \n",
    "\n",
    "    fake = Faker()\n",
    "\n",
    "    # Randomly select values\n",
    "    restaurant_id = random.choice(restaurant_ids)\n",
    "    adv_campaign_id = str(uuid.uuid4())\n",
    "    adv_campaign_content = random.choice(CONSTS['RESTAURANT_CAMPAIGN'])\n",
    "    adv_campaign_owner = fake.name()\n",
    "    adv_campaign_owner_contact = fake.email()\n",
    "    adv_campaign_datetime_start = generate_random_timestamp()\n",
    "    adv_campaign_datetime_end = generate_random_timestamp(after=adv_campaign_datetime_start)\n",
    "    datetime_created = int(time.time())\n",
    "\n",
    "    # Create the message dictionary\n",
    "    message = {        \n",
    "        \"restaurant_id\": restaurant_id,\n",
    "        \"adv_campaign_id\": adv_campaign_id,\n",
    "        \"adv_campaign_content\": adv_campaign_content,\n",
    "        \"adv_campaign_owner\": adv_campaign_owner,\n",
    "        \"adv_campaign_owner_contact\": adv_campaign_owner_contact,\n",
    "        \"adv_campaign_datetime_start\": adv_campaign_datetime_start,\n",
    "        \"adv_campaign_datetime_end\": adv_campaign_datetime_end,\n",
    "        \"datetime_created\": datetime_created\n",
    "    }      \n",
    "\n",
    "    # Increment and save the counter to file\n",
    "    counter += 1    \n",
    "    save_counter(counter,f\"{CONFIG['GEN_PATH']}/{CONFIG['COUNTER_FILE_NAME']}\")\n",
    "    \n",
    "    return f\"{counter}: {json.dumps(message)}\""
   ]
  },
  {
   "cell_type": "code",
   "execution_count": 5,
   "metadata": {},
   "outputs": [],
   "source": [
    "def update_log(attemp, returncode, output):    \n",
    "    file_path = f\"{CONFIG['GEN_PATH']}/log.txt\"\n",
    "    try:\n",
    "        with open(file_path,'a') as file:\n",
    "            time =  datetime.datetime.now().strftime(\"%Y-%m-%d %H:%M:%S\")\n",
    "            line = f\"{time} attemp: {attemp}, Return Code: {returncode}, Output: {output}\"\n",
    "            file.write(f\"{line}\\n\")\n",
    "            print(line)\n",
    "    except Exception:    \n",
    "        print('Something is wrong ')"
   ]
  },
  {
   "cell_type": "code",
   "execution_count": 6,
   "metadata": {},
   "outputs": [],
   "source": [
    "def save_to_file(path,how,messages):        \n",
    "    try:\n",
    "        with open(path, how) as file:\n",
    "            for m in messages:\n",
    "                file.write(f\"{m}\\n\")            \n",
    "    except Exception as e:\n",
    "        print(f\"Something is wrong {e}\")"
   ]
  },
  {
   "cell_type": "code",
   "execution_count": 7,
   "metadata": {},
   "outputs": [],
   "source": [
    "def save_data(messages):    \n",
    "    file_path = f\"{CONFIG['DATA_PATH']}/data\"\n",
    "    save_to_file(file_path,'w',messages)"
   ]
  },
  {
   "cell_type": "code",
   "execution_count": 8,
   "metadata": {},
   "outputs": [],
   "source": [
    "def save_all_data(messages):\n",
    "    file_path = f\"{CONFIG['GEN_PATH']}/all_data.txt\"\n",
    "    save_to_file(file_path,'a',messages)"
   ]
  },
  {
   "cell_type": "code",
   "execution_count": 9,
   "metadata": {},
   "outputs": [],
   "source": [
    "\n",
    "\n",
    "def execute_bash_command(command):\n",
    "    try:\n",
    "        result = subprocess.run(command, shell=True, check=True, capture_output=True, text=True)\n",
    "        output = result.stdout.strip()\n",
    "        return result.returncode, output\n",
    "    except subprocess.CalledProcessError as e:\n",
    "        return e.returncode, e.stderr.strip()\n",
    "\n",
    "def send_to_kafka():\n",
    "    attemp = 1\n",
    "    returncode = -1\n",
    "    output = \"\"\n",
    "    command = CONFIG['BASH_KAFKA']\n",
    "    while returncode != 0:\n",
    "        returncode, output = execute_bash_command(command)\n",
    "        update_log(attemp,returncode,output)\n",
    "        time.sleep(3)\n",
    "        attemp+=1\n"
   ]
  },
  {
   "cell_type": "code",
   "execution_count": 10,
   "metadata": {},
   "outputs": [],
   "source": [
    "def generator(pack_size,pack_number):\n",
    "    \n",
    "    restaurant_ids = read_distinct_restaurant_ids(\n",
    "            CONFIG['POSTGRE_METADATA_SERVER'], \\\n",
    "            CONFIG['POSTGRE_METADATA_PORT'], \\\n",
    "            CONFIG['POSTGRE_METADATA_DB'], \\\n",
    "            CONFIG['POSTGRE_METADATA_USERNAME'], \\\n",
    "            CONFIG['POSTGRE_METADATA_PASSWORD'], \\\n",
    "            CONFIG['POSTGRE_METADATA_TB'])\n",
    "    \n",
    "    for i in range(0,pack_number,1):\n",
    "        messages = []\n",
    "        for i in range(0,pack_size,1):\n",
    "            messages.append(generate_message(restaurant_ids))        \n",
    "        save_data(messages)\n",
    "        save_all_data(messages)\n",
    "        send_to_kafka()\n",
    "        time.sleep(3)\n"
   ]
  },
  {
   "cell_type": "code",
   "execution_count": 36,
   "metadata": {},
   "outputs": [
    {
     "name": "stdout",
     "output_type": "stream",
     "text": [
      "2023-08-04 21:06:41 attemp: 1, Return Code: 0, Output: \n"
     ]
    }
   ],
   "source": [
    "generator(5,1)"
   ]
  },
  {
   "cell_type": "code",
   "execution_count": null,
   "metadata": {},
   "outputs": [],
   "source": []
  }
 ],
 "metadata": {
  "kernelspec": {
   "display_name": "Python 3.8.10 ('venv': venv)",
   "language": "python",
   "name": "python3"
  },
  "language_info": {
   "codemirror_mode": {
    "name": "ipython",
    "version": 3
   },
   "file_extension": ".py",
   "mimetype": "text/x-python",
   "name": "python",
   "nbconvert_exporter": "python",
   "pygments_lexer": "ipython3",
   "version": "3.8.10"
  },
  "orig_nbformat": 4,
  "vscode": {
   "interpreter": {
    "hash": "c3a4bafdb854a3338e57bd225a67ba7b24ef623a055d9c7115468ed13fcb14f9"
   }
  }
 },
 "nbformat": 4,
 "nbformat_minor": 2
}
